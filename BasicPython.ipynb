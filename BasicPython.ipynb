{
  "cells": [
    {
      "cell_type": "markdown",
      "metadata": {
        "id": "view-in-github",
        "colab_type": "text"
      },
      "source": [
        "<a href=\"https://colab.research.google.com/github/BRajat/Python-for-Everybody/blob/main/BasicPython.ipynb\" target=\"_parent\"><img src=\"https://colab.research.google.com/assets/colab-badge.svg\" alt=\"Open In Colab\"/></a>"
      ]
    },
    {
      "cell_type": "markdown",
      "id": "bcc4780f",
      "metadata": {
        "id": "bcc4780f"
      },
      "source": [
        "## Dictionary {key:value}\n",
        "\n",
        "* keys are uniques.\n",
        "* O[1] (Order of 1 time complexity) for searching value for a particular key.\n",
        "* Intermediate hash table is created, that maps key with values"
      ]
    },
    {
      "cell_type": "code",
      "execution_count": null,
      "id": "c144a93e",
      "metadata": {
        "id": "c144a93e"
      },
      "outputs": [],
      "source": [
        "# dictonary\n",
        "\n",
        "# counting the number of words in file\n",
        "\n",
        "f = open('testfile.txt','w')\n",
        "f.write('This is line 1, Today is Monday\\n')\n",
        "f.write('The quick brown fox jumps over the lazy dog\\n')\n",
        "f.write('Apples Orange Bananas are the fruits')\n",
        "f.close()"
      ]
    },
    {
      "cell_type": "code",
      "execution_count": null,
      "id": "4750ad56",
      "metadata": {
        "id": "4750ad56",
        "outputId": "3ec17fea-19fe-4029-d02b-9bbb2421675f"
      },
      "outputs": [
        {
          "name": "stdout",
          "output_type": "stream",
          "text": [
            "This is line 1, Today is Monday\n",
            "\n",
            "The quick brown fox jumps over the lazy dog\n",
            "\n",
            "Apples Orange Bananas are the fruits\n"
          ]
        }
      ],
      "source": [
        "file = open('testfile.txt','r')\n",
        "for line in file:\n",
        "    print(line)"
      ]
    },
    {
      "cell_type": "code",
      "execution_count": null,
      "id": "c88e57eb",
      "metadata": {
        "id": "c88e57eb",
        "outputId": "7659d6e3-25ef-477f-f79b-f50e92ac6cc7"
      },
      "outputs": [
        {
          "name": "stdout",
          "output_type": "stream",
          "text": [
            "{'this': 1, 'is': 2, 'line': 1, '1,': 1, 'today': 1, 'monday': 1, 'the': 3, 'quick': 1, 'brown': 1, 'fox': 1, 'jumps': 1, 'over': 1, 'lazy': 1, 'dog': 1, 'apples': 1, 'orange': 1, 'bananas': 1, 'are': 1, 'fruits': 1}\n"
          ]
        }
      ],
      "source": [
        "count = dict()\n",
        "with open('testfile.txt','r') as f:\n",
        "        l = f.read().split()             # creates a list\n",
        "        for word in l:                   \n",
        "            count[word.lower()] = count.get(word.lower(),0) + 1                   # append the count to dict\n",
        "        \n",
        "print(count)"
      ]
    },
    {
      "cell_type": "code",
      "execution_count": null,
      "id": "c579925e",
      "metadata": {
        "id": "c579925e"
      },
      "outputs": [],
      "source": [
        "# iterating over dictonary - 3ways"
      ]
    },
    {
      "cell_type": "code",
      "execution_count": null,
      "id": "16c9eb39",
      "metadata": {
        "id": "16c9eb39",
        "outputId": "3d06754d-c2e5-45a4-bf49-2aa01cc0bee4"
      },
      "outputs": [
        {
          "name": "stdout",
          "output_type": "stream",
          "text": [
            "this 1\n",
            "is 2\n",
            "line 1\n",
            "1, 1\n",
            "today 1\n",
            "monday 1\n",
            "the 3\n",
            "quick 1\n",
            "brown 1\n",
            "fox 1\n",
            "jumps 1\n",
            "over 1\n",
            "lazy 1\n",
            "dog 1\n",
            "apples 1\n",
            "orange 1\n",
            "bananas 1\n",
            "are 1\n",
            "fruits 1\n",
            "==================================================\n",
            "this 1\n",
            "is 2\n",
            "line 1\n",
            "1, 1\n",
            "today 1\n",
            "monday 1\n",
            "the 3\n",
            "quick 1\n",
            "brown 1\n",
            "fox 1\n",
            "jumps 1\n",
            "over 1\n",
            "lazy 1\n",
            "dog 1\n",
            "apples 1\n",
            "orange 1\n",
            "bananas 1\n",
            "are 1\n",
            "fruits 1\n",
            "==================================================\n",
            "1\n",
            "2\n",
            "1\n",
            "1\n",
            "1\n",
            "1\n",
            "3\n",
            "1\n",
            "1\n",
            "1\n",
            "1\n",
            "1\n",
            "1\n",
            "1\n",
            "1\n",
            "1\n",
            "1\n",
            "1\n",
            "1\n"
          ]
        }
      ],
      "source": [
        "for k in count.keys():\n",
        "    print(k,count[k])\n",
        "    \n",
        "print('='*50)\n",
        "    \n",
        "for k,v in count.items():\n",
        "    print(k,v)\n",
        "    \n",
        "print('='*50)\n",
        "    \n",
        "for v in count.values():\n",
        "    print(v)"
      ]
    },
    {
      "cell_type": "code",
      "execution_count": null,
      "id": "d7cc61f4",
      "metadata": {
        "id": "d7cc61f4",
        "outputId": "4909653d-2a6f-49f1-fc17-341072d7e14f"
      },
      "outputs": [
        {
          "name": "stdout",
          "output_type": "stream",
          "text": [
            "Help on dict object:\n",
            "\n",
            "class dict(object)\n",
            " |  dict() -> new empty dictionary\n",
            " |  dict(mapping) -> new dictionary initialized from a mapping object's\n",
            " |      (key, value) pairs\n",
            " |  dict(iterable) -> new dictionary initialized as if via:\n",
            " |      d = {}\n",
            " |      for k, v in iterable:\n",
            " |          d[k] = v\n",
            " |  dict(**kwargs) -> new dictionary initialized with the name=value pairs\n",
            " |      in the keyword argument list.  For example:  dict(one=1, two=2)\n",
            " |  \n",
            " |  Built-in subclasses:\n",
            " |      StgDict\n",
            " |  \n",
            " |  Methods defined here:\n",
            " |  \n",
            " |  __contains__(self, key, /)\n",
            " |      True if the dictionary has the specified key, else False.\n",
            " |  \n",
            " |  __delitem__(self, key, /)\n",
            " |      Delete self[key].\n",
            " |  \n",
            " |  __eq__(self, value, /)\n",
            " |      Return self==value.\n",
            " |  \n",
            " |  __ge__(self, value, /)\n",
            " |      Return self>=value.\n",
            " |  \n",
            " |  __getattribute__(self, name, /)\n",
            " |      Return getattr(self, name).\n",
            " |  \n",
            " |  __getitem__(...)\n",
            " |      x.__getitem__(y) <==> x[y]\n",
            " |  \n",
            " |  __gt__(self, value, /)\n",
            " |      Return self>value.\n",
            " |  \n",
            " |  __init__(self, /, *args, **kwargs)\n",
            " |      Initialize self.  See help(type(self)) for accurate signature.\n",
            " |  \n",
            " |  __ior__(self, value, /)\n",
            " |      Return self|=value.\n",
            " |  \n",
            " |  __iter__(self, /)\n",
            " |      Implement iter(self).\n",
            " |  \n",
            " |  __le__(self, value, /)\n",
            " |      Return self<=value.\n",
            " |  \n",
            " |  __len__(self, /)\n",
            " |      Return len(self).\n",
            " |  \n",
            " |  __lt__(self, value, /)\n",
            " |      Return self<value.\n",
            " |  \n",
            " |  __ne__(self, value, /)\n",
            " |      Return self!=value.\n",
            " |  \n",
            " |  __or__(self, value, /)\n",
            " |      Return self|value.\n",
            " |  \n",
            " |  __repr__(self, /)\n",
            " |      Return repr(self).\n",
            " |  \n",
            " |  __reversed__(self, /)\n",
            " |      Return a reverse iterator over the dict keys.\n",
            " |  \n",
            " |  __ror__(self, value, /)\n",
            " |      Return value|self.\n",
            " |  \n",
            " |  __setitem__(self, key, value, /)\n",
            " |      Set self[key] to value.\n",
            " |  \n",
            " |  __sizeof__(...)\n",
            " |      D.__sizeof__() -> size of D in memory, in bytes\n",
            " |  \n",
            " |  clear(...)\n",
            " |      D.clear() -> None.  Remove all items from D.\n",
            " |  \n",
            " |  copy(...)\n",
            " |      D.copy() -> a shallow copy of D\n",
            " |  \n",
            " |  get(self, key, default=None, /)\n",
            " |      Return the value for key if key is in the dictionary, else default.\n",
            " |  \n",
            " |  items(...)\n",
            " |      D.items() -> a set-like object providing a view on D's items\n",
            " |  \n",
            " |  keys(...)\n",
            " |      D.keys() -> a set-like object providing a view on D's keys\n",
            " |  \n",
            " |  pop(...)\n",
            " |      D.pop(k[,d]) -> v, remove specified key and return the corresponding value.\n",
            " |      \n",
            " |      If key is not found, default is returned if given, otherwise KeyError is raised\n",
            " |  \n",
            " |  popitem(self, /)\n",
            " |      Remove and return a (key, value) pair as a 2-tuple.\n",
            " |      \n",
            " |      Pairs are returned in LIFO (last-in, first-out) order.\n",
            " |      Raises KeyError if the dict is empty.\n",
            " |  \n",
            " |  setdefault(self, key, default=None, /)\n",
            " |      Insert key with a value of default if key is not in the dictionary.\n",
            " |      \n",
            " |      Return the value for key if key is in the dictionary, else default.\n",
            " |  \n",
            " |  update(...)\n",
            " |      D.update([E, ]**F) -> None.  Update D from dict/iterable E and F.\n",
            " |      If E is present and has a .keys() method, then does:  for k in E: D[k] = E[k]\n",
            " |      If E is present and lacks a .keys() method, then does:  for k, v in E: D[k] = v\n",
            " |      In either case, this is followed by: for k in F:  D[k] = F[k]\n",
            " |  \n",
            " |  values(...)\n",
            " |      D.values() -> an object providing a view on D's values\n",
            " |  \n",
            " |  ----------------------------------------------------------------------\n",
            " |  Class methods defined here:\n",
            " |  \n",
            " |  __class_getitem__(...) from builtins.type\n",
            " |      See PEP 585\n",
            " |  \n",
            " |  fromkeys(iterable, value=None, /) from builtins.type\n",
            " |      Create a new dictionary with keys from iterable and values set to value.\n",
            " |  \n",
            " |  ----------------------------------------------------------------------\n",
            " |  Static methods defined here:\n",
            " |  \n",
            " |  __new__(*args, **kwargs) from builtins.type\n",
            " |      Create and return a new object.  See help(type) for accurate signature.\n",
            " |  \n",
            " |  ----------------------------------------------------------------------\n",
            " |  Data and other attributes defined here:\n",
            " |  \n",
            " |  __hash__ = None\n",
            "\n"
          ]
        }
      ],
      "source": [
        "help(count)               # method and attributes on dict"
      ]
    },
    {
      "cell_type": "code",
      "execution_count": null,
      "id": "a1564d4e",
      "metadata": {
        "id": "a1564d4e",
        "outputId": "f9df5b9f-0808-47c9-8050-4be26439f82c"
      },
      "outputs": [
        {
          "name": "stdout",
          "output_type": "stream",
          "text": [
            "{1: 'X', 2: 'X', 3: 'X', 4: 'X', 5: 'X'}\n"
          ]
        }
      ],
      "source": [
        "d = dict.fromkeys([1,2,3,4,5], 'X')\n",
        "print(d)"
      ]
    },
    {
      "cell_type": "code",
      "execution_count": null,
      "id": "cc8eeb41",
      "metadata": {
        "id": "cc8eeb41"
      },
      "outputs": [],
      "source": [
        "# list - set of unordered, mutable, non-homogenous\n",
        "# set - ordered, mutable\n",
        "# tuple - immutable implies ordered\n",
        "# dict - unordered, "
      ]
    },
    {
      "cell_type": "code",
      "execution_count": null,
      "id": "77318802",
      "metadata": {
        "id": "77318802",
        "outputId": "489a3666-fd13-4f1e-bc9a-99f1fc3f8d70"
      },
      "outputs": [
        {
          "name": "stdout",
          "output_type": "stream",
          "text": [
            "283\n"
          ]
        }
      ],
      "source": [
        "# problem - 1: finding largest number in the list\n",
        "\n",
        "l = [1,2,1,5,3,5,283,45,2,3,5,6,49,99,230]\n",
        "\n",
        "largest_so_far = -1\n",
        "for i in l:\n",
        "    if i>largest_so_far:\n",
        "        largest_so_far = i\n",
        "print(largest_so_far)"
      ]
    },
    {
      "cell_type": "code",
      "execution_count": null,
      "id": "5c7160e2",
      "metadata": {
        "id": "5c7160e2",
        "outputId": "fe395e20-e48a-44c7-8f93-832d4eed5253"
      },
      "outputs": [
        {
          "name": "stdout",
          "output_type": "stream",
          "text": [
            "230\n"
          ]
        }
      ],
      "source": [
        "# finding 2nd largest number\n",
        "largest_so_far = -1\n",
        "for i in l:\n",
        "    if i>largest_so_far:\n",
        "        second_largest = largest_so_far\n",
        "        largest_so_far = i\n",
        "    elif i>second_largest:\n",
        "        second_largest = i\n",
        "print(second_largest)"
      ]
    },
    {
      "cell_type": "markdown",
      "id": "c5d57c8a",
      "metadata": {
        "id": "c5d57c8a"
      },
      "source": [
        "\n",
        "### Test Cases-\n",
        "\n",
        "3 possibilities - second largest before largest, second largest after largest or no second largest\n"
      ]
    },
    {
      "cell_type": "code",
      "execution_count": null,
      "id": "b8e77dbf",
      "metadata": {
        "id": "b8e77dbf"
      },
      "outputs": [],
      "source": [
        "def find_2ndLargest(l):\n",
        "    largest_so_far = -1\n",
        "    for i in l:\n",
        "        if i>largest_so_far:\n",
        "            second_largest = largest_so_far\n",
        "            largest_so_far = i\n",
        "        elif i>second_largest:\n",
        "            second_largest = i\n",
        "    print(second_largest)"
      ]
    },
    {
      "cell_type": "code",
      "execution_count": null,
      "id": "51ad1043",
      "metadata": {
        "id": "51ad1043",
        "outputId": "23d7da12-477b-45e9-e567-a6f9d4d5a0c7"
      },
      "outputs": [
        {
          "name": "stdout",
          "output_type": "stream",
          "text": [
            "230\n"
          ]
        }
      ],
      "source": [
        "find_2ndLargest(l)"
      ]
    },
    {
      "cell_type": "markdown",
      "id": "54e553e5",
      "metadata": {
        "id": "54e553e5"
      },
      "source": [
        "# testcases -\n",
        "\n",
        "1. Input [1,2,3,6,7] : Output 7,6\n",
        "2. Input [1,3,6,5,4] : Output 5,4\n",
        "3. Input [7] : Output 7,None\n",
        "4. Input [8,5,2,1,5] : Output 8,5\n",
        "5. Input [1,2,1,1,1,8] : Output 8,1\n",
        "6. Input [] : Output None,None"
      ]
    },
    {
      "cell_type": "code",
      "execution_count": null,
      "id": "0e5caba1",
      "metadata": {
        "id": "0e5caba1"
      },
      "outputs": [],
      "source": [
        "# creating dictionary for test-cases\n",
        "test_cases = []\n",
        "\n",
        "test_cases.append({'input':[1,2,3,6,7],'output':[7,6]})\n",
        "test_cases.append({'input':[1,2,6,5,4],'output':[5,4]})\n",
        "test_cases.append({'input':[7],'output':[7,None]})\n",
        "test_cases.append({'input':[8,5,2,1,5],'output':[8,5]})\n",
        "test_cases.append({'input':[1,2,1,1,1,8],'output':[8,1]})\n",
        "test_cases.append({'input':[],'output':[None,None]})"
      ]
    },
    {
      "cell_type": "code",
      "execution_count": null,
      "id": "fc71452b",
      "metadata": {
        "id": "fc71452b",
        "outputId": "ed31012f-17aa-4d28-df41-f0e1bb6ddcbd"
      },
      "outputs": [
        {
          "name": "stdout",
          "output_type": "stream",
          "text": [
            "{'input': [1, 2, 3, 6, 7], 'output': [7, 6]}\n",
            "{'input': [1, 2, 6, 5, 4], 'output': [5, 4]}\n",
            "{'input': [7], 'output': [7, None]}\n",
            "{'input': [8, 5, 2, 1, 5], 'output': [8, 5]}\n",
            "{'input': [1, 2, 1, 1, 1, 8], 'output': [8, 1]}\n",
            "{'input': [], 'output': [None, None]}\n"
          ]
        }
      ],
      "source": [
        "print(*test_cases, sep = '\\n')"
      ]
    },
    {
      "cell_type": "code",
      "execution_count": null,
      "id": "c7e7d2e0",
      "metadata": {
        "id": "c7e7d2e0"
      },
      "outputs": [],
      "source": [
        "# writing function\n",
        "\n",
        "def find_2ndLargest(l):\n",
        "    largest_so_far = -1\n",
        "    for i in l:\n",
        "        if i>largest_so_far:\n",
        "            second_largest = largest_so_far\n",
        "            largest_so_far = i\n",
        "        elif i>second_largest:\n",
        "            second_largest = i\n",
        "            \n",
        "    if largest_so_far == -1:\n",
        "        return [None, None]\n",
        "    elif second_largest == -1:\n",
        "        return [largest_so_far, None]\n",
        "    return [largest_so_far, second_largest]"
      ]
    },
    {
      "cell_type": "code",
      "execution_count": null,
      "id": "7aaa09ad",
      "metadata": {
        "id": "7aaa09ad",
        "outputId": "c43a9624-b895-4c6a-96d7-3d89390c88c7"
      },
      "outputs": [
        {
          "name": "stdout",
          "output_type": "stream",
          "text": [
            "True\n",
            "False\n",
            "True\n",
            "True\n",
            "False\n",
            "True\n"
          ]
        }
      ],
      "source": [
        "for k in test_cases:\n",
        "    inpt = k['input']\n",
        "    output = k['output']\n",
        "    \n",
        "    print(find_2ndLargest(inpt)==output)"
      ]
    },
    {
      "cell_type": "markdown",
      "id": "edee4f83",
      "metadata": {
        "id": "edee4f83"
      },
      "source": [
        "### Decorators"
      ]
    },
    {
      "cell_type": "code",
      "execution_count": null,
      "id": "20a51fe0",
      "metadata": {
        "id": "20a51fe0"
      },
      "outputs": [],
      "source": [
        "def mydecorator(func):\n",
        "    def wrapper():\n",
        "        print('Start')\n",
        "        result = func()\n",
        "        print('End')\n",
        "        return result\n",
        "    return wrapper\n",
        "\n"
      ]
    },
    {
      "cell_type": "code",
      "execution_count": null,
      "id": "44d58882",
      "metadata": {
        "id": "44d58882"
      },
      "outputs": [],
      "source": [
        "@mydecorator\n",
        "def dosomething():\n",
        "    print('Hello')"
      ]
    },
    {
      "cell_type": "code",
      "execution_count": null,
      "id": "30b68334",
      "metadata": {
        "id": "30b68334",
        "outputId": "181f4d79-3b9e-46e2-ec1f-b6101c397ee8"
      },
      "outputs": [
        {
          "name": "stdout",
          "output_type": "stream",
          "text": [
            "Start\n",
            "Hello\n",
            "End\n"
          ]
        }
      ],
      "source": [
        "dosomething()"
      ]
    },
    {
      "cell_type": "markdown",
      "id": "cc8c6056",
      "metadata": {
        "id": "cc8c6056"
      },
      "source": [
        "1. Functions are first class python object. Meaning - they can be used as arguments, can be returned from other functions.\n",
        "2. Decorators are defined as a function, the argument of which is a function, around which the decorator wraps itself. Decorators define and return a wrapping function as output"
      ]
    },
    {
      "cell_type": "code",
      "execution_count": null,
      "id": "974ea12e",
      "metadata": {
        "id": "974ea12e",
        "outputId": "7539e9e6-0818-418c-b8c1-92fa559bad1e"
      },
      "outputs": [
        {
          "data": {
            "text/plain": [
              "'wrapper'"
            ]
          },
          "execution_count": 50,
          "metadata": {},
          "output_type": "execute_result"
        }
      ],
      "source": [
        "dosomething.__name__"
      ]
    },
    {
      "cell_type": "code",
      "execution_count": null,
      "id": "5b141575",
      "metadata": {
        "id": "5b141575"
      },
      "outputs": [],
      "source": [
        ""
      ]
    }
  ],
  "metadata": {
    "kernelspec": {
      "display_name": "Python 3 (ipykernel)",
      "language": "python",
      "name": "python3"
    },
    "language_info": {
      "codemirror_mode": {
        "name": "ipython",
        "version": 3
      },
      "file_extension": ".py",
      "mimetype": "text/x-python",
      "name": "python",
      "nbconvert_exporter": "python",
      "pygments_lexer": "ipython3",
      "version": "3.9.7"
    },
    "colab": {
      "name": "BasicPython.ipynb",
      "provenance": [],
      "include_colab_link": true
    }
  },
  "nbformat": 4,
  "nbformat_minor": 5
}