{
 "cells": [
  {
   "cell_type": "markdown",
   "id": "8d14e5a8",
   "metadata": {},
   "source": [
    "## OOP"
   ]
  },
  {
   "cell_type": "code",
   "execution_count": 26,
   "id": "89e57a66",
   "metadata": {},
   "outputs": [
    {
     "name": "stdout",
     "output_type": "stream",
     "text": [
      "Enter name: Someone\n",
      "Enter age: 10\n",
      "Rajat 25 Nikhil 30\n"
     ]
    }
   ],
   "source": [
    "class Person:\n",
    "    \n",
    "    def __init__(self, name=input('Enter name: '), age=input('Enter age: ')):\n",
    "        self.name = name\n",
    "        self.age = age\n",
    "        \n",
    "    def has_addr(self):\n",
    "        print('Address 1')\n",
    "        \n",
    "p0 = Person()\n",
    "p1 = Person('Rajat',25)\n",
    "p2 = Person('Nikhil',30)\n",
    "\n",
    "print(p1.name, p1.age, p2.name, p2.age)"
   ]
  },
  {
   "cell_type": "code",
   "execution_count": 16,
   "id": "9c47db17",
   "metadata": {},
   "outputs": [
    {
     "name": "stdout",
     "output_type": "stream",
     "text": [
      "Someone 10\n"
     ]
    }
   ],
   "source": [
    "print(p0.name, p0.age)"
   ]
  },
  {
   "cell_type": "code",
   "execution_count": 70,
   "id": "ac0d4bc0",
   "metadata": {},
   "outputs": [],
   "source": [
    "class Employee(Person):                         # Employee class (Child) inherits from Person class (Parent)\n",
    "    \n",
    "    office = 'officeXYZ'\n",
    "    \n",
    "    def __init__(self, name, age, EmpId, DeptId):      \n",
    "        Person.__init__(self, name, age)\n",
    "        self.EmpId = EmpId\n",
    "        self.DeptId = DeptId\n",
    "        \n",
    "    def does_something(self):\n",
    "        print('something')\n",
    "        \n",
    "    def has_addr(self):\n",
    "        print('Address 2')\n",
    "\n",
    "    \n",
    "e1 = Employee('Drogba',41,'E001','D001')\n"
   ]
  },
  {
   "cell_type": "code",
   "execution_count": 55,
   "id": "c7e01ff7",
   "metadata": {},
   "outputs": [
    {
     "name": "stdout",
     "output_type": "stream",
     "text": [
      "Drogba\n",
      "41\n"
     ]
    }
   ],
   "source": [
    "# accessing the instance variables\n",
    "print(e1.name)\n",
    "print(e1.age)"
   ]
  },
  {
   "cell_type": "code",
   "execution_count": 58,
   "id": "adef147a",
   "metadata": {},
   "outputs": [
    {
     "name": "stdout",
     "output_type": "stream",
     "text": [
      "Address 2\n"
     ]
    }
   ],
   "source": [
    "# calling method of parent class\n",
    "e1.has_addr()                               # example of method overriding (polymorphism)"
   ]
  },
  {
   "cell_type": "code",
   "execution_count": 57,
   "id": "7cc68bbb",
   "metadata": {},
   "outputs": [
    {
     "name": "stdout",
     "output_type": "stream",
     "text": [
      "something\n"
     ]
    }
   ],
   "source": [
    "# calling method of child class\n",
    "e1.does_something()"
   ]
  },
  {
   "cell_type": "code",
   "execution_count": 46,
   "id": "98eb8ebe",
   "metadata": {},
   "outputs": [
    {
     "data": {
      "text/plain": [
       "'officeXYZ'"
      ]
     },
     "execution_count": 46,
     "metadata": {},
     "output_type": "execute_result"
    }
   ],
   "source": [
    "# accessing the class variable for the instance\n",
    "e1.office"
   ]
  },
  {
   "cell_type": "code",
   "execution_count": 47,
   "id": "0066063a",
   "metadata": {},
   "outputs": [
    {
     "data": {
      "text/plain": [
       "'officeXYZ'"
      ]
     },
     "execution_count": 47,
     "metadata": {},
     "output_type": "execute_result"
    }
   ],
   "source": [
    "# accessing the class variable for the class\n",
    "Employee.office"
   ]
  },
  {
   "cell_type": "code",
   "execution_count": 51,
   "id": "fd7325bb",
   "metadata": {},
   "outputs": [
    {
     "data": {
      "text/plain": [
       "'officePQR'"
      ]
     },
     "execution_count": 51,
     "metadata": {},
     "output_type": "execute_result"
    }
   ],
   "source": [
    "# modifying the class variable for the instance\n",
    "e1.office = 'officePQR'\n",
    "e1.office"
   ]
  },
  {
   "cell_type": "code",
   "execution_count": 71,
   "id": "6e6fcbf4",
   "metadata": {},
   "outputs": [
    {
     "name": "stdout",
     "output_type": "stream",
     "text": [
      "officeABC\n",
      "officeABC\n"
     ]
    }
   ],
   "source": [
    "# modifying the class variable for the class\n",
    "Employee.office = 'officeABC'\n",
    "\n",
    "print(Employee.office)\n",
    "print(e1.office)"
   ]
  },
  {
   "cell_type": "markdown",
   "id": "e492332a",
   "metadata": {},
   "source": [
    "**Understandings-**\n",
    "\n",
    "1. The total instance variables of e1 are - the instance variables of child class + the instance variables of parent class.\n",
    "2. We can call method of parent class on object of child class. \n",
    "4. Remember to include the `self` parameter in all instance methods.\n",
    "5. Remember to include `cls` parameter in all class methods. and `@classmethod` decorator. Class method manipulates Class variables only. \n",
    "6. Remember to include `@staticmethod` decorator for static method. Static method does not apply to class or to even the instance of class, it is like a normal function that we can use - but is written inside of class, we cannot manipulate class or it's instance by static method."
   ]
  },
  {
   "cell_type": "markdown",
   "id": "e233e524",
   "metadata": {},
   "source": [
    "**Understandings-**\n",
    "1. Method overloading - creating methods with same name but different arguments, not possible in python."
   ]
  },
  {
   "cell_type": "markdown",
   "id": "e608fa13",
   "metadata": {},
   "source": [
    "**References-**\n",
    "1. https://data-flair.training/blogs/python-inheritance/\n",
    "2. https://www.programiz.com/python-programming/polymorphism"
   ]
  },
  {
   "cell_type": "code",
   "execution_count": 60,
   "id": "8638b928",
   "metadata": {},
   "outputs": [
    {
     "data": {
      "text/plain": [
       "True"
      ]
     },
     "execution_count": 60,
     "metadata": {},
     "output_type": "execute_result"
    }
   ],
   "source": [
    "isinstance(e1, Person)"
   ]
  },
  {
   "cell_type": "code",
   "execution_count": 59,
   "id": "2e7990b7",
   "metadata": {},
   "outputs": [
    {
     "data": {
      "text/plain": [
       "True"
      ]
     },
     "execution_count": 59,
     "metadata": {},
     "output_type": "execute_result"
    }
   ],
   "source": [
    "isinstance(e1, Employee)"
   ]
  },
  {
   "cell_type": "code",
   "execution_count": 20,
   "id": "7575dff0",
   "metadata": {},
   "outputs": [
    {
     "data": {
      "text/plain": [
       "True"
      ]
     },
     "execution_count": 20,
     "metadata": {},
     "output_type": "execute_result"
    }
   ],
   "source": [
    "isinstance(p1, Person)"
   ]
  },
  {
   "cell_type": "code",
   "execution_count": 113,
   "id": "4c103cdf",
   "metadata": {},
   "outputs": [
    {
     "data": {
      "text/plain": [
       "False"
      ]
     },
     "execution_count": 113,
     "metadata": {},
     "output_type": "execute_result"
    }
   ],
   "source": [
    "issubclass(Person, Employee)"
   ]
  },
  {
   "cell_type": "code",
   "execution_count": 114,
   "id": "da13d689",
   "metadata": {},
   "outputs": [
    {
     "data": {
      "text/plain": [
       "True"
      ]
     },
     "execution_count": 114,
     "metadata": {},
     "output_type": "execute_result"
    }
   ],
   "source": [
    "issubclass(Employee, Person)"
   ]
  },
  {
   "cell_type": "code",
   "execution_count": 102,
   "id": "2d12174e",
   "metadata": {},
   "outputs": [],
   "source": [
    "# instance method, class method and static method\n",
    "\n",
    "class Circle:\n",
    "    \n",
    "    pi = 3.14\n",
    "    \n",
    "    def __init__(self, radius):\n",
    "        self.radius  =  radius\n",
    "        \n",
    "    def area(self):\n",
    "        return self.pi * self.radius**2\n",
    "    \n",
    "    @classmethod\n",
    "    def modify_pi(cls):\n",
    "        cls.pi = float(input('Enter New Pi value'))\n",
    "        \n",
    "    @staticmethod\n",
    "    def print_something():\n",
    "        print('something')\n",
    "        \n",
    "        \n"
   ]
  },
  {
   "cell_type": "code",
   "execution_count": 103,
   "id": "f73b88f1",
   "metadata": {},
   "outputs": [
    {
     "name": "stdout",
     "output_type": "stream",
     "text": [
      "4\n",
      "50.24\n"
     ]
    }
   ],
   "source": [
    "c1 = Circle(4)\n",
    "\n",
    "print(c1.radius)\n",
    "print(c1.area())"
   ]
  },
  {
   "cell_type": "code",
   "execution_count": 104,
   "id": "139d40e9",
   "metadata": {},
   "outputs": [
    {
     "data": {
      "text/plain": [
       "3.14"
      ]
     },
     "execution_count": 104,
     "metadata": {},
     "output_type": "execute_result"
    }
   ],
   "source": [
    "c1.pi"
   ]
  },
  {
   "cell_type": "code",
   "execution_count": 105,
   "id": "1603564f",
   "metadata": {},
   "outputs": [
    {
     "data": {
      "text/plain": [
       "3.14"
      ]
     },
     "execution_count": 105,
     "metadata": {},
     "output_type": "execute_result"
    }
   ],
   "source": [
    "Circle.pi"
   ]
  },
  {
   "cell_type": "markdown",
   "id": "41f0d8cc",
   "metadata": {},
   "source": [
    "Now, if we execute modify_pi classmethod the class variable for the instance will not change, only the class variable will change."
   ]
  },
  {
   "cell_type": "code",
   "execution_count": 106,
   "id": "59c85e63",
   "metadata": {},
   "outputs": [
    {
     "name": "stdout",
     "output_type": "stream",
     "text": [
      "Enter New Pi value4\n"
     ]
    }
   ],
   "source": [
    "c1.modify_pi()"
   ]
  },
  {
   "cell_type": "code",
   "execution_count": 107,
   "id": "f3ba0f4a",
   "metadata": {},
   "outputs": [
    {
     "data": {
      "text/plain": [
       "64.0"
      ]
     },
     "execution_count": 107,
     "metadata": {},
     "output_type": "execute_result"
    }
   ],
   "source": [
    "c1.area()"
   ]
  },
  {
   "cell_type": "code",
   "execution_count": 108,
   "id": "2d5eccea",
   "metadata": {},
   "outputs": [
    {
     "data": {
      "text/plain": [
       "4.0"
      ]
     },
     "execution_count": 108,
     "metadata": {},
     "output_type": "execute_result"
    }
   ],
   "source": [
    "Circle.pi"
   ]
  },
  {
   "cell_type": "code",
   "execution_count": 94,
   "id": "667fa9d5",
   "metadata": {},
   "outputs": [
    {
     "data": {
      "text/plain": [
       "64.0"
      ]
     },
     "execution_count": 94,
     "metadata": {},
     "output_type": "execute_result"
    }
   ],
   "source": [
    "c1.area()"
   ]
  },
  {
   "cell_type": "code",
   "execution_count": 95,
   "id": "2738c017",
   "metadata": {},
   "outputs": [
    {
     "data": {
      "text/plain": [
       "4.0"
      ]
     },
     "execution_count": 95,
     "metadata": {},
     "output_type": "execute_result"
    }
   ],
   "source": [
    "c1.pi"
   ]
  },
  {
   "cell_type": "code",
   "execution_count": 96,
   "id": "6ad8038a",
   "metadata": {},
   "outputs": [
    {
     "name": "stdout",
     "output_type": "stream",
     "text": [
      "Enter New Pi value3.14\n"
     ]
    }
   ],
   "source": [
    "Circle.modify_pi()"
   ]
  },
  {
   "cell_type": "code",
   "execution_count": 97,
   "id": "7fe6e9d2",
   "metadata": {},
   "outputs": [
    {
     "data": {
      "text/plain": [
       "3.14"
      ]
     },
     "execution_count": 97,
     "metadata": {},
     "output_type": "execute_result"
    }
   ],
   "source": [
    "Circle.pi"
   ]
  },
  {
   "cell_type": "code",
   "execution_count": 98,
   "id": "9c65d320",
   "metadata": {},
   "outputs": [
    {
     "data": {
      "text/plain": [
       "3.14"
      ]
     },
     "execution_count": 98,
     "metadata": {},
     "output_type": "execute_result"
    }
   ],
   "source": [
    "c1.pi"
   ]
  },
  {
   "cell_type": "code",
   "execution_count": 99,
   "id": "e904f59b",
   "metadata": {},
   "outputs": [
    {
     "data": {
      "text/plain": [
       "50.24"
      ]
     },
     "execution_count": 99,
     "metadata": {},
     "output_type": "execute_result"
    }
   ],
   "source": [
    "c1.area()"
   ]
  },
  {
   "cell_type": "markdown",
   "id": "fa2f9dac",
   "metadata": {},
   "source": [
    "**Understandings-**\n",
    "1. When doing changes to the class variable, the changes are propogated to all instance of that class.\n",
    "2. However, after that, we can still modify the class variable for that particular instance of the class."
   ]
  },
  {
   "cell_type": "code",
   "execution_count": 109,
   "id": "fd31c316",
   "metadata": {},
   "outputs": [
    {
     "name": "stdout",
     "output_type": "stream",
     "text": [
      "Variable   Type        Data/Info\n",
      "--------------------------------\n",
      "Circle     type        <class '__main__.Circle'>\n",
      "Employee   type        <class '__main__.Employee'>\n",
      "Person     type        <class '__main__.Person'>\n",
      "c1         Circle      <__main__.Circle object at 0x7f80bdd2a820>\n",
      "e1         Employee    <__main__.Employee object at 0x7f80bd62efd0>\n",
      "p0         Person      <__main__.Person object at 0x7f80bdd2ae20>\n",
      "p1         Person      <__main__.Person object at 0x7f80bdebb190>\n",
      "p2         Person      <__main__.Person object at 0x7f80d442a640>\n"
     ]
    }
   ],
   "source": [
    "whos"
   ]
  },
  {
   "cell_type": "code",
   "execution_count": 110,
   "id": "8f38695e",
   "metadata": {},
   "outputs": [
    {
     "name": "stdout",
     "output_type": "stream",
     "text": [
      "something\n"
     ]
    }
   ],
   "source": [
    "# static methods are plain functions, with only difference that,\n",
    "# they are called from class or class-instance by using the dot notation\n",
    "# static method take their separate arguments- they don't have any relation to self or cls parameters.\n",
    "\n",
    "c1.print_something()\n"
   ]
  },
  {
   "cell_type": "code",
   "execution_count": 115,
   "id": "745d2d6f",
   "metadata": {},
   "outputs": [],
   "source": [
    "### Multiple Inheriatance to understand MRO (method resolution order)\n",
    "### ABC (with this we make, method overriding mandatory in the child class, meaning we will always have to define\n",
    "### the decorated abstract method in the child class)\n",
    "### Operator Overloading --> I think it should be called Operator Overriding. Ex - Operator Overriding in Python\n",
    "### Pandas and Numpy libraries, where we can '+' for concating.\n"
   ]
  },
  {
   "cell_type": "markdown",
   "id": "acb24ddd",
   "metadata": {},
   "source": [
    "### Multiple Inheritance\n",
    "\n",
    "Reference - \n",
    "1. https://data-flair.training/blogs/python-multiple-inheritance/"
   ]
  },
  {
   "cell_type": "code",
   "execution_count": 116,
   "id": "8e452542",
   "metadata": {},
   "outputs": [
    {
     "name": "stdout",
     "output_type": "stream",
     "text": [
      "3\n"
     ]
    }
   ],
   "source": [
    "class A:\n",
    "    id = 1\n",
    "class B:\n",
    "    id = 2\n",
    "    \n",
    "class C(A,B):\n",
    "    id = 3\n",
    "    \n",
    "obj = C\n",
    "print(obj.id)"
   ]
  },
  {
   "cell_type": "code",
   "execution_count": 117,
   "id": "062e9594",
   "metadata": {},
   "outputs": [
    {
     "name": "stdout",
     "output_type": "stream",
     "text": [
      "1\n"
     ]
    }
   ],
   "source": [
    "class A:\n",
    "    id = 1\n",
    "class B:\n",
    "    id = 2\n",
    "    \n",
    "class C(A,B):\n",
    "    pass\n",
    "    \n",
    "obj = C\n",
    "print(obj.id)"
   ]
  },
  {
   "cell_type": "code",
   "execution_count": 118,
   "id": "f74e8e5e",
   "metadata": {},
   "outputs": [
    {
     "name": "stdout",
     "output_type": "stream",
     "text": [
      "2\n"
     ]
    }
   ],
   "source": [
    "class C(B,A):\n",
    "    pass\n",
    "    \n",
    "obj = C\n",
    "print(obj.id)"
   ]
  },
  {
   "cell_type": "code",
   "execution_count": 119,
   "id": "2b99d168",
   "metadata": {},
   "outputs": [
    {
     "data": {
      "text/plain": [
       "(__main__.C, __main__.B, __main__.A, object)"
      ]
     },
     "execution_count": 119,
     "metadata": {},
     "output_type": "execute_result"
    }
   ],
   "source": [
    "obj.__mro__                               # latest order: C >> B >> A\n",
    "# returns tuple"
   ]
  },
  {
   "cell_type": "code",
   "execution_count": 120,
   "id": "ec17daf3",
   "metadata": {},
   "outputs": [
    {
     "data": {
      "text/plain": [
       "[__main__.C, __main__.B, __main__.A, object]"
      ]
     },
     "execution_count": 120,
     "metadata": {},
     "output_type": "execute_result"
    }
   ],
   "source": [
    "obj.mro()                                  \n",
    "# returns list"
   ]
  },
  {
   "cell_type": "code",
   "execution_count": 121,
   "id": "e64602d6",
   "metadata": {},
   "outputs": [],
   "source": [
    "# A more complex example\n",
    "class X:pass\n",
    "class Y: pass\n",
    "class Z:pass\n",
    "class A(X,Y):pass\n",
    "class B(Y,Z):pass\n",
    "class M(B,A,Z):pass"
   ]
  },
  {
   "cell_type": "code",
   "execution_count": 126,
   "id": "51fbc480",
   "metadata": {},
   "outputs": [
    {
     "data": {
      "text/plain": [
       "[__main__.M,\n",
       " __main__.B,\n",
       " __main__.A,\n",
       " __main__.X,\n",
       " __main__.Y,\n",
       " __main__.Z,\n",
       " object]"
      ]
     },
     "execution_count": 126,
     "metadata": {},
     "output_type": "execute_result"
    }
   ],
   "source": [
    "M.mro()"
   ]
  },
  {
   "attachments": {
    "image.png": {
     "image/png": "[encoded data removed]"
    }
   },
   "cell_type": "markdown",
   "id": "e1c1d3a7",
   "metadata": {},
   "source": [
    "![image.png](attachment:image.png)"
   ]
  },
  {
   "cell_type": "markdown",
   "id": "2542ea14",
   "metadata": {},
   "source": [
    "### Operator overloading\n",
    "\n",
    "Reference - \n",
    "1. https://www.programiz.com/python-programming/operator-overloading"
   ]
  },
  {
   "cell_type": "markdown",
   "id": "494e60a6",
   "metadata": {},
   "source": [
    "## SQL"
   ]
  },
  {
   "cell_type": "markdown",
   "id": "ddd8ab27",
   "metadata": {},
   "source": [
    "Reference (PyMySQL)-\n",
    "1. https://data-flair.training/blogs/python-database-access/ \n",
    "\n",
    "Reference (sqlite3)-\n",
    "1. https://docs.python.org/3/library/sqlite3.html\n",
    "2. https://www.youtube.com/watch?v=8DvywoWv6fI&list=PLWKjhJtqVAbnqBxcdjVGgT3uVR10bzTEB&index=6 (9:20:00)"
   ]
  },
  {
   "cell_type": "markdown",
   "id": "5e537981",
   "metadata": {},
   "source": [
    "3. Using SQLite Browser (explained in video)"
   ]
  },
  {
   "cell_type": "code",
   "execution_count": 130,
   "id": "3d071860",
   "metadata": {},
   "outputs": [
    {
     "name": "stdout",
     "output_type": "stream",
     "text": [
      "Enter file name: mbox-short.txt\n",
      "cwen@iupui.edu 5\n",
      "zqian@umich.edu 4\n",
      "david.horwitz@uct.ac.za 4\n",
      "louis@media.berkeley.edu 3\n",
      "gsilver@umich.edu 3\n",
      "stephen.marquard@uct.ac.za 2\n",
      "rjlowe@iupui.edu 2\n",
      "wagnermr@iupui.edu 1\n",
      "antranig@caret.cam.ac.uk 1\n",
      "gopal.ramasammycook@gmail.com 1\n"
     ]
    }
   ],
   "source": [
    "import sqlite3\n",
    "\n",
    "conn = sqlite3.connect('emaildb.sqlite')             # connect to sqlite database, create if not exists\n",
    "cur = conn.cursor()\n",
    "\n",
    "cur.execute('DROP TABLE IF EXISTS Counts')           # clear any earlier table\n",
    "\n",
    "cur.execute('''\n",
    "CREATE TABLE Counts (email TEXT, count INTEGER)''')  # executing SQL statements\n",
    "\n",
    "fname = input('Enter file name: ')                   \n",
    "if (len(fname) < 1): fname = 'mbox-short.txt'\n",
    "fh = open(fname)                                     \n",
    "for line in fh:                                      # reading the file, line by line\n",
    "    if not line.startswith('From: '): continue       # move to next line, if line do not starts with 'From:'\n",
    "    pieces = line.split()                            # split line containing 'From:' into list\n",
    "    email = pieces[1]                                # get the email from list\n",
    "    cur.execute('SELECT count FROM Counts WHERE email = ? ', (email,)) # get the previous value of count from db for given email\n",
    "    row = cur.fetchone()                             # fetch one row\n",
    "    if row is None:                                  # if no row, insert email and start count at 1\n",
    "        cur.execute('''INSERT INTO Counts (email, count)\n",
    "                VALUES (?, 1)''', (email,))\n",
    "    else:                                            # else update count to count + 1\n",
    "        cur.execute('UPDATE Counts SET count = count + 1 WHERE email = ?',\n",
    "                    (email,))\n",
    "    conn.commit()                                    # commit changes to database\n",
    "\n",
    "# https://www.sqlite.org/lang_select.html\n",
    "sqlstr = 'SELECT email, count FROM Counts ORDER BY count DESC LIMIT 10'      # analysis for top 10 emails by count in text doc\n",
    "\n",
    "for row in cur.execute(sqlstr):                      # fetch result of above query line by line\n",
    "    print(str(row[0]), row[1])\n",
    "\n",
    "cur.close()"
   ]
  },
  {
   "cell_type": "code",
   "execution_count": 131,
   "id": "9a3d802a",
   "metadata": {},
   "outputs": [],
   "source": [
    "# Above is short demo for understanding how to work with SQL in Python\n",
    "# Other SQL Statements like: Select, Group By (Aggregation), Order By,\n",
    "# Having, Window functions - Rank, Row_Number, Parition, Frames, \n",
    "# common table expression, views, set operation, joins and other SQL\n",
    "# concepts are known."
   ]
  }
 ],
 "metadata": {
  "kernelspec": {
   "display_name": "Python 3 (ipykernel)",
   "language": "python",
   "name": "python3"
  },
  "language_info": {
   "codemirror_mode": {
    "name": "ipython",
    "version": 3
   },
   "file_extension": ".py",
   "mimetype": "text/x-python",
   "name": "python",
   "nbconvert_exporter": "python",
   "pygments_lexer": "ipython3",
   "version": "3.9.7"
  }
 },
 "nbformat": 4,
 "nbformat_minor": 5
}
